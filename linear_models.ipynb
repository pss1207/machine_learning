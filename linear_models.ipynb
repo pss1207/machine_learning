{
 "cells": [
  {
   "cell_type": "markdown",
   "metadata": {},
   "source": [
    "# Linear Models"
   ]
  },
  {
   "cell_type": "code",
   "execution_count": 71,
   "metadata": {},
   "outputs": [],
   "source": [
    "import pandas as pd\n",
    "import numpy as np\n",
    "from sklearn import linear_model\n",
    "import matplotlib.pyplot as plt\n",
    "\n",
    "pd.set_option('display.max_columns', None)"
   ]
  },
  {
   "cell_type": "markdown",
   "metadata": {},
   "source": [
    "## Dataset - Quantitative Estimation of Dehydration (Physionet)"
   ]
  },
  {
   "cell_type": "code",
   "execution_count": 114,
   "metadata": {},
   "outputs": [
    {
     "data": {
      "text/html": [
       "<div>\n",
       "<style scoped>\n",
       "    .dataframe tbody tr th:only-of-type {\n",
       "        vertical-align: middle;\n",
       "    }\n",
       "\n",
       "    .dataframe tbody tr th {\n",
       "        vertical-align: top;\n",
       "    }\n",
       "\n",
       "    .dataframe thead th {\n",
       "        text-align: right;\n",
       "    }\n",
       "</style>\n",
       "<table border=\"1\" class=\"dataframe\">\n",
       "  <thead>\n",
       "    <tr style=\"text-align: right;\">\n",
       "      <th></th>\n",
       "      <th>id</th>\n",
       "      <th>age [years]</th>\n",
       "      <th>height [cm]</th>\n",
       "      <th>running speed [km/h]</th>\n",
       "      <th>running interval</th>\n",
       "      <th>weight measured using Kern DE 150K2D [kg]</th>\n",
       "      <th>weight measured using InBody 720 [kg]</th>\n",
       "      <th>total body water using InBody 720 [l]</th>\n",
       "      <th>impedance right arm at 1000kHz [Ohm]</th>\n",
       "      <th>impedance left arm at 1000kHz [Ohm]</th>\n",
       "      <th>impedance trunk at 1000kHz [Ohm]</th>\n",
       "      <th>impedance right leg at 1000kHz [Ohm]</th>\n",
       "      <th>impedance left leg at 1000kHz [Ohm]</th>\n",
       "      <th>temperature ear [degree C]</th>\n",
       "      <th>temperature left hand [degree C]</th>\n",
       "      <th>temperature right hand [degree C]</th>\n",
       "      <th>temperature left foot [degree C]</th>\n",
       "      <th>temperature right foot [degree C]</th>\n",
       "      <th>temperature chest [degree C]</th>\n",
       "      <th>temperature back [degree C]</th>\n",
       "      <th>temperature upper arm [degree C]</th>\n",
       "      <th>temperature lower arm [degree C]</th>\n",
       "      <th>temperature upper leg [degree C]</th>\n",
       "      <th>temperature lower leg [degree C]</th>\n",
       "      <th>sweat chloride [mmol/l]</th>\n",
       "      <th>sweat osmolality [mmol/kg]</th>\n",
       "      <th>salivary amylase [units/l]</th>\n",
       "      <th>salivary chloride [mmol/l]</th>\n",
       "      <th>salivary cortisol [ng/ml]</th>\n",
       "      <th>salivary cortisone [ng/ml]</th>\n",
       "      <th>salivary osmolality [mmol/kg]</th>\n",
       "      <th>salivary potassium [mmol/l]</th>\n",
       "      <th>salivary protein concentration [mg/l]</th>\n",
       "    </tr>\n",
       "  </thead>\n",
       "  <tbody>\n",
       "    <tr>\n",
       "      <th>0</th>\n",
       "      <td>1</td>\n",
       "      <td>29.0</td>\n",
       "      <td>190.0</td>\n",
       "      <td>8.0</td>\n",
       "      <td>0</td>\n",
       "      <td>85.515</td>\n",
       "      <td>85.90</td>\n",
       "      <td>54.0</td>\n",
       "      <td>231.27</td>\n",
       "      <td>232.63</td>\n",
       "      <td>14.98</td>\n",
       "      <td>205.04</td>\n",
       "      <td>212.04</td>\n",
       "      <td>36.7</td>\n",
       "      <td>32.6</td>\n",
       "      <td>31.9</td>\n",
       "      <td>27.9</td>\n",
       "      <td>28.3</td>\n",
       "      <td>32.8</td>\n",
       "      <td>33.7</td>\n",
       "      <td>32.2</td>\n",
       "      <td>32.0</td>\n",
       "      <td>31.6</td>\n",
       "      <td>31.9</td>\n",
       "      <td>NaN</td>\n",
       "      <td>NaN</td>\n",
       "      <td>NaN</td>\n",
       "      <td>28.0</td>\n",
       "      <td>NaN</td>\n",
       "      <td>NaN</td>\n",
       "      <td>76.0</td>\n",
       "      <td>NaN</td>\n",
       "      <td>576.8</td>\n",
       "    </tr>\n",
       "    <tr>\n",
       "      <th>1</th>\n",
       "      <td>1</td>\n",
       "      <td>29.0</td>\n",
       "      <td>190.0</td>\n",
       "      <td>NaN</td>\n",
       "      <td>1</td>\n",
       "      <td>85.275</td>\n",
       "      <td>85.56</td>\n",
       "      <td>53.7</td>\n",
       "      <td>234.75</td>\n",
       "      <td>240.08</td>\n",
       "      <td>14.99</td>\n",
       "      <td>194.27</td>\n",
       "      <td>200.90</td>\n",
       "      <td>36.3</td>\n",
       "      <td>31.1</td>\n",
       "      <td>30.8</td>\n",
       "      <td>31.3</td>\n",
       "      <td>32.0</td>\n",
       "      <td>31.2</td>\n",
       "      <td>33.3</td>\n",
       "      <td>30.4</td>\n",
       "      <td>31.9</td>\n",
       "      <td>32.1</td>\n",
       "      <td>31.3</td>\n",
       "      <td>56.0</td>\n",
       "      <td>146.0</td>\n",
       "      <td>NaN</td>\n",
       "      <td>29.0</td>\n",
       "      <td>NaN</td>\n",
       "      <td>NaN</td>\n",
       "      <td>78.0</td>\n",
       "      <td>NaN</td>\n",
       "      <td>544.1</td>\n",
       "    </tr>\n",
       "    <tr>\n",
       "      <th>2</th>\n",
       "      <td>1</td>\n",
       "      <td>29.0</td>\n",
       "      <td>190.0</td>\n",
       "      <td>NaN</td>\n",
       "      <td>2</td>\n",
       "      <td>84.895</td>\n",
       "      <td>85.32</td>\n",
       "      <td>54.0</td>\n",
       "      <td>230.81</td>\n",
       "      <td>233.95</td>\n",
       "      <td>14.84</td>\n",
       "      <td>196.97</td>\n",
       "      <td>202.51</td>\n",
       "      <td>36.2</td>\n",
       "      <td>31.0</td>\n",
       "      <td>31.2</td>\n",
       "      <td>32.3</td>\n",
       "      <td>32.9</td>\n",
       "      <td>30.8</td>\n",
       "      <td>33.0</td>\n",
       "      <td>30.0</td>\n",
       "      <td>29.8</td>\n",
       "      <td>29.2</td>\n",
       "      <td>31.2</td>\n",
       "      <td>55.0</td>\n",
       "      <td>134.0</td>\n",
       "      <td>111700.0</td>\n",
       "      <td>35.0</td>\n",
       "      <td>1.24</td>\n",
       "      <td>11.8</td>\n",
       "      <td>84.0</td>\n",
       "      <td>37.0</td>\n",
       "      <td>537.3</td>\n",
       "    </tr>\n",
       "  </tbody>\n",
       "</table>\n",
       "</div>"
      ],
      "text/plain": [
       "   id  age [years]  height [cm]  running speed [km/h]  running interval  \\\n",
       "0   1         29.0        190.0                   8.0                 0   \n",
       "1   1         29.0        190.0                   NaN                 1   \n",
       "2   1         29.0        190.0                   NaN                 2   \n",
       "\n",
       "   weight measured using Kern DE 150K2D [kg]  \\\n",
       "0                                     85.515   \n",
       "1                                     85.275   \n",
       "2                                     84.895   \n",
       "\n",
       "   weight measured using InBody 720 [kg]  \\\n",
       "0                                  85.90   \n",
       "1                                  85.56   \n",
       "2                                  85.32   \n",
       "\n",
       "   total body water using InBody 720 [l]  \\\n",
       "0                                   54.0   \n",
       "1                                   53.7   \n",
       "2                                   54.0   \n",
       "\n",
       "   impedance right arm at 1000kHz [Ohm]  impedance left arm at 1000kHz [Ohm]  \\\n",
       "0                                231.27                               232.63   \n",
       "1                                234.75                               240.08   \n",
       "2                                230.81                               233.95   \n",
       "\n",
       "   impedance trunk at 1000kHz [Ohm]  impedance right leg at 1000kHz [Ohm]  \\\n",
       "0                             14.98                                205.04   \n",
       "1                             14.99                                194.27   \n",
       "2                             14.84                                196.97   \n",
       "\n",
       "   impedance left leg at 1000kHz [Ohm]  temperature ear [degree C]  \\\n",
       "0                               212.04                        36.7   \n",
       "1                               200.90                        36.3   \n",
       "2                               202.51                        36.2   \n",
       "\n",
       "   temperature left hand [degree C]  temperature right hand [degree C]  \\\n",
       "0                              32.6                               31.9   \n",
       "1                              31.1                               30.8   \n",
       "2                              31.0                               31.2   \n",
       "\n",
       "   temperature left foot [degree C]  temperature right foot [degree C]  \\\n",
       "0                              27.9                               28.3   \n",
       "1                              31.3                               32.0   \n",
       "2                              32.3                               32.9   \n",
       "\n",
       "   temperature chest [degree C]  temperature back [degree C]  \\\n",
       "0                          32.8                         33.7   \n",
       "1                          31.2                         33.3   \n",
       "2                          30.8                         33.0   \n",
       "\n",
       "   temperature upper arm [degree C]  temperature lower arm [degree C]  \\\n",
       "0                              32.2                              32.0   \n",
       "1                              30.4                              31.9   \n",
       "2                              30.0                              29.8   \n",
       "\n",
       "   temperature upper leg [degree C]  temperature lower leg [degree C]  \\\n",
       "0                              31.6                              31.9   \n",
       "1                              32.1                              31.3   \n",
       "2                              29.2                              31.2   \n",
       "\n",
       "   sweat chloride [mmol/l]  sweat osmolality [mmol/kg]  \\\n",
       "0                      NaN                         NaN   \n",
       "1                     56.0                       146.0   \n",
       "2                     55.0                       134.0   \n",
       "\n",
       "   salivary amylase [units/l]  salivary chloride [mmol/l]  \\\n",
       "0                         NaN                        28.0   \n",
       "1                         NaN                        29.0   \n",
       "2                    111700.0                        35.0   \n",
       "\n",
       "   salivary cortisol [ng/ml]  salivary cortisone [ng/ml]  \\\n",
       "0                        NaN                         NaN   \n",
       "1                        NaN                         NaN   \n",
       "2                       1.24                        11.8   \n",
       "\n",
       "   salivary osmolality [mmol/kg]  salivary potassium [mmol/l]  \\\n",
       "0                           76.0                          NaN   \n",
       "1                           78.0                          NaN   \n",
       "2                           84.0                         37.0   \n",
       "\n",
       "   salivary protein concentration [mg/l]  \n",
       "0                                  576.8  \n",
       "1                                  544.1  \n",
       "2                                  537.3  "
      ]
     },
     "execution_count": 114,
     "metadata": {},
     "output_type": "execute_result"
    }
   ],
   "source": [
    "# Read Dataset\n",
    "FILE_NAME = 'data/dehydration/dehydration_estimation.csv'\n",
    "df = pd.read_csv(FILE_NAME)\n",
    "\n",
    "# Pre-processing\n",
    "age = []\n",
    "height = []\n",
    "for index, row in df.iterrows():\n",
    "    if np.isnan(row['age [years]']) == False:\n",
    "        age.append(row['age [years]'])\n",
    "        height.append(row['height [cm]'])\n",
    "    else:\n",
    "        age.append(age[-1])\n",
    "        height.append(height[-1])\n",
    "df['age [years]'] = age\n",
    "df['height [cm]'] = height\n",
    "\n",
    "df.head(3)"
   ]
  },
  {
   "cell_type": "code",
   "execution_count": 136,
   "metadata": {},
   "outputs": [],
   "source": [
    "# Split train and test dataset\n",
    "np.random.seed(10)\n",
    "indices = np.random.permutation(df['id'].unique())\n",
    "df_train = df[df['id'].isin(indices[:8])]\n",
    "df_test = df[df['id'].isin(indices[8:])]\n",
    "\n",
    "X_train = df_train[[\n",
    "        'height [cm]', \n",
    "        'weight measured using InBody 720 [kg]',\n",
    "        'impedance right arm at 1000kHz [Ohm]',\n",
    "        'impedance left arm at 1000kHz [Ohm]',\n",
    "        'impedance trunk at 1000kHz [Ohm]',\n",
    "        'impedance right leg at 1000kHz [Ohm]',\n",
    "        'impedance left leg at 1000kHz [Ohm]',\n",
    "        'temperature ear [degree C]',\n",
    "        'temperature left hand [degree C]',\n",
    "        'temperature right hand [degree C]',\n",
    "        'temperature left foot [degree C]',\n",
    "        'temperature right foot [degree C]',\n",
    "        'temperature chest [degree C]',\n",
    "        'temperature back [degree C]',\n",
    "        'temperature upper arm [degree C]',\n",
    "        'temperature lower arm [degree C]',\n",
    "        'temperature upper leg [degree C]',\n",
    "        'temperature lower leg [degree C]'\n",
    "                   ]]\n",
    "y_train = df_train['total body water using InBody 720 [l]']\n",
    "\n",
    "X_test = df_test[[\n",
    "        'height [cm]', \n",
    "        'weight measured using InBody 720 [kg]',\n",
    "        'impedance right arm at 1000kHz [Ohm]',\n",
    "        'impedance left arm at 1000kHz [Ohm]',\n",
    "        'impedance trunk at 1000kHz [Ohm]',\n",
    "        'impedance right leg at 1000kHz [Ohm]',\n",
    "        'impedance left leg at 1000kHz [Ohm]',\n",
    "        'temperature ear [degree C]',\n",
    "        'temperature left hand [degree C]',\n",
    "        'temperature right hand [degree C]',\n",
    "        'temperature left foot [degree C]',\n",
    "        'temperature right foot [degree C]',\n",
    "        'temperature chest [degree C]',\n",
    "        'temperature back [degree C]',\n",
    "        'temperature upper arm [degree C]',\n",
    "        'temperature lower arm [degree C]',\n",
    "        'temperature upper leg [degree C]',\n",
    "        'temperature lower leg [degree C]'\n",
    "                   ]]\n",
    "y_test = df_test['total body water using InBody 720 [l]']"
   ]
  },
  {
   "cell_type": "markdown",
   "metadata": {},
   "source": [
    "## Linear Regression"
   ]
  },
  {
   "cell_type": "code",
   "execution_count": 137,
   "metadata": {
    "scrolled": false
   },
   "outputs": [
    {
     "name": "stdout",
     "output_type": "stream",
     "text": [
      "Coefficients: \n",
      " [ 0.45937487  0.29005939 -0.06512946 -0.02290289 -0.54757771 -0.09016488\n",
      "  0.07959516 -0.32036362 -0.26592269  0.38421808 -0.00375791 -0.01951084\n",
      " -0.09043835 -0.14987065  0.2141813   0.02575888 -0.034836   -0.41206971]\n",
      "Intercept: \n",
      " -4.283605898204954\n",
      "Mean Squared Error: 5.12\n",
      "Coefficient of determination: 0.88\n"
     ]
    }
   ],
   "source": [
    "from sklearn import linear_model\n",
    "from sklearn.metrics import mean_squared_error, r2_score\n",
    "\n",
    "reg = linear_model.LinearRegression()\n",
    "\n",
    "reg.fit(X_train, y_train)\n",
    "print ('Coefficients: \\n', reg.coef_)\n",
    "print ('Intercept: \\n', reg.intercept_)\n",
    "\n",
    "y_pred = reg.predict(X_test)\n",
    "\n",
    "print ('Mean Squared Error: %.2f' % mean_squared_error(y_test, y_pred))\n",
    "print ('Coefficient of determination: %.2f' % r2_score(y_test, y_pred))\n"
   ]
  },
  {
   "cell_type": "markdown",
   "metadata": {},
   "source": [
    "## Ridge Regression"
   ]
  },
  {
   "cell_type": "code",
   "execution_count": 138,
   "metadata": {},
   "outputs": [
    {
     "name": "stdout",
     "output_type": "stream",
     "text": [
      "Coefficients: \n",
      " [ 0.46326047  0.28707476 -0.06410609 -0.02405416 -0.53432552 -0.09097965\n",
      "  0.07888213 -0.29953153 -0.25232686  0.37004309 -0.0029884  -0.02179232\n",
      " -0.09389707 -0.14835829  0.21000039  0.03010429 -0.04702663 -0.39885127]\n",
      "Intercept: \n",
      " -5.2945809993947535\n",
      "Mean Squared Error: 4.99\n",
      "Coefficient of determination: 0.88\n"
     ]
    }
   ],
   "source": [
    "reg = linear_model.Ridge(alpha=.5)\n",
    "reg.fit(X_train, y_train)\n",
    "\n",
    "print('Coefficients: \\n', reg.coef_)\n",
    "print('Intercept: \\n', reg.intercept_)\n",
    "\n",
    "y_pred = reg.predict(X_test)\n",
    "\n",
    "print ('Mean Squared Error: %.2f' % mean_squared_error(y_test, y_pred))\n",
    "print ('Coefficient of determination: %.2f' % r2_score(y_test, y_pred))"
   ]
  },
  {
   "cell_type": "markdown",
   "metadata": {},
   "source": [
    "## Lasso Regression"
   ]
  },
  {
   "cell_type": "code",
   "execution_count": 150,
   "metadata": {},
   "outputs": [
    {
     "name": "stdout",
     "output_type": "stream",
     "text": [
      "Coeffcients: \n",
      " [ 0.58855217  0.08873884 -0.         -0.06032629 -0.         -0.05261877\n",
      "  0.         -0.          0.          0.         -0.         -0.01788141\n",
      " -0.         -0.         -0.         -0.         -0.         -0.        ]\n",
      "Intercept: \n",
      " -39.169904826839215\n",
      "Mean Squared Error: 1.59\n",
      "Coefficient of determination: 0.96\n"
     ]
    }
   ],
   "source": [
    "reg = linear_model.Lasso(alpha=0.34)\n",
    "reg.fit(X_train, y_train)\n",
    "\n",
    "print ('Coeffcients: \\n', reg.coef_)\n",
    "print ('Intercept: \\n', reg.intercept_)\n",
    "\n",
    "y_pred = reg.predict(X_test)\n",
    "\n",
    "print ('Mean Squared Error: %.2f' % mean_squared_error(y_test, y_pred))\n",
    "print ('Coefficient of determination: %.2f' % r2_score(y_test, y_pred))"
   ]
  },
  {
   "cell_type": "markdown",
   "metadata": {},
   "source": [
    "### Lasso Model Selection"
   ]
  },
  {
   "cell_type": "code",
   "execution_count": 140,
   "metadata": {},
   "outputs": [],
   "source": [
    "from sklearn.linear_model import LassoCV, LassoLarsCV, LassoLarsIC\n",
    "\n",
    "EPSILON = 1e-4"
   ]
  },
  {
   "cell_type": "markdown",
   "metadata": {},
   "source": [
    "#### LassoLarsIC: Least angle regression with BIC/AIC criterion"
   ]
  },
  {
   "cell_type": "code",
   "execution_count": 151,
   "metadata": {},
   "outputs": [
    {
     "data": {
      "image/png": "[encoded data removed]",
      "text/plain": [
       "<Figure size 432x288 with 1 Axes>"
      ]
     },
     "metadata": {
      "needs_background": "light"
     },
     "output_type": "display_data"
    }
   ],
   "source": [
    "model_bic = LassoLarsIC(criterion='bic')\n",
    "model_bic.fit(X_train, y_train)\n",
    "alpha_bic_ = model_bic.alpha_\n",
    "\n",
    "model_aic = LassoLarsIC(criterion='aic')\n",
    "model_aic.fit(X_train, y_train)\n",
    "alpha_aic = model_aic.alpha_\n",
    "\n",
    "def plot_ic_criterion(model, name, color):\n",
    "    alpha_ = model.alpha_ + EPSILON\n",
    "    alphas_ = model.alphas_ + EPSILON\n",
    "    \n",
    "    criterion_ = model.criterion_\n",
    "    \n",
    "    plt.plot(-np.log10(alphas_), criterion_, '--', color=color,\n",
    "            linewidth=3, label='%s criterion' % name)\n",
    "    \n",
    "    plt.axvline(-np.log10(alpha_), color=color, linewidth=3,\n",
    "               label='alpha: %s estimate'% name)\n",
    "    plt.xlabel('-log(alpha)')\n",
    "    plt.ylabel('criterion')\n",
    "    \n",
    "plt.figure()\n",
    "plot_ic_criterion(model_aic, 'AIC', 'b')\n",
    "plot_ic_criterion(model_bic, 'BIC', 'r')\n",
    "plt.legend()\n",
    "plt.title('Information-criterion for model selection)')\n",
    "plt.axis('tight')\n",
    "plt.show()"
   ]
  },
  {
   "cell_type": "markdown",
   "metadata": {},
   "source": [
    "#### LassoCV: coordinate descent"
   ]
  },
  {
   "cell_type": "code",
   "execution_count": 153,
   "metadata": {},
   "outputs": [
    {
     "data": {
      "image/png": "[encoded data removed]",
      "text/plain": [
       "<Figure size 432x288 with 1 Axes>"
      ]
     },
     "metadata": {
      "needs_background": "light"
     },
     "output_type": "display_data"
    }
   ],
   "source": [
    "model = LassoCV(cv=20).fit(X_train, y_train)\n",
    "\n",
    "m_log_alphas = -np.log10(model.alphas_ + EPSILON)\n",
    "\n",
    "plt.figure()\n",
    "plt.plot(m_log_alphas, model.mse_path_, ':')\n",
    "plt.plot(m_log_alphas, model.mse_path_.mean(axis=-1), 'k',\n",
    "        label='Average across the folds', linewidth=2)\n",
    "plt.axvline(-np.log10(model.alpha_ + EPSILON), linestyle='--', color='k',\n",
    "           label='alpha: CV estimate')\n",
    "\n",
    "plt.legend()\n",
    "plt.xlabel('-log(alpha)')\n",
    "plt.ylabel('Mean Square Error')\n",
    "plt.title('Mean square error on each fold: coordinate descent')\n",
    "plt.axis('tight')\n",
    "plt.show()"
   ]
  },
  {
   "cell_type": "markdown",
   "metadata": {},
   "source": [
    "#### LassoLarsCV: least angle regression"
   ]
  },
  {
   "cell_type": "code",
   "execution_count": 154,
   "metadata": {},
   "outputs": [
    {
     "data": {
      "image/png": "[encoded data removed]",
      "text/plain": [
       "<Figure size 432x288 with 1 Axes>"
      ]
     },
     "metadata": {
      "needs_background": "light"
     },
     "output_type": "display_data"
    }
   ],
   "source": [
    "model = LassoLarsCV(cv=20).fit(X_train, y_train)\n",
    "\n",
    "m_log_alphas = -np.log10(model.cv_alphas_+EPSILON)\n",
    "\n",
    "plt.figure()\n",
    "plt.plot(m_log_alphas, model.mse_path_, ':')\n",
    "plt.plot(m_log_alphas, model.mse_path_.mean(axis=-1), 'k',\n",
    "        label = 'Average across the folds', linewidth=2)\n",
    "plt.axvline(-np.log10(model.alpha_), linestyle='--', color='k',\n",
    "           label='alpha CV')\n",
    "plt.legend()\n",
    "plt.xlabel('-log(alpha)')\n",
    "plt.ylabel('Mean square error')\n",
    "plt.title('Mean square error on each fold: Lars')\n",
    "plt.axis('tight')\n",
    "plt.show()"
   ]
  },
  {
   "cell_type": "code",
   "execution_count": null,
   "metadata": {},
   "outputs": [],
   "source": []
  }
 ],
 "metadata": {
  "kernelspec": {
   "display_name": "Python 3",
   "language": "python",
   "name": "python3"
  },
  "language_info": {
   "codemirror_mode": {
    "name": "ipython",
    "version": 3
   },
   "file_extension": ".py",
   "mimetype": "text/x-python",
   "name": "python",
   "nbconvert_exporter": "python",
   "pygments_lexer": "ipython3",
   "version": "3.7.6"
  }
 },
 "nbformat": 4,
 "nbformat_minor": 4
}
